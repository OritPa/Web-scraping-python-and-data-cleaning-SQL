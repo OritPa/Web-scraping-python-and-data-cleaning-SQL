{
 "cells": [
  {
   "cell_type": "code",
   "execution_count": 1,
   "id": "0e75200d-9182-4109-a16b-f32a9feea958",
   "metadata": {},
   "outputs": [],
   "source": [
    "from bs4 import BeautifulSoup\n",
    "import requests\n",
    "from csv import writer"
   ]
  },
  {
   "cell_type": "code",
   "execution_count": 2,
   "id": "86cd24b3-a4bd-4704-82fa-eba941157c36",
   "metadata": {},
   "outputs": [],
   "source": [
    "url= \"https://www.yad2.co.il/realestate/rent?topArea=2&area=3&city=6300&propertyGroup=apartments&rooms=1.5-2\"\n",
    "page= requests.get(url)"
   ]
  },
  {
   "cell_type": "code",
   "execution_count": 3,
   "id": "d3380903-3e01-446d-b4e7-f2aa31c9fd9c",
   "metadata": {},
   "outputs": [
    {
     "name": "stdout",
     "output_type": "stream",
     "text": [
      "<Response [200]>\n"
     ]
    }
   ],
   "source": [
    "print(page)"
   ]
  },
  {
   "cell_type": "code",
   "execution_count": 5,
   "id": "cfdaceca-3e57-4541-87eb-8ed110bc8a0f",
   "metadata": {},
   "outputs": [],
   "source": [
    "soup= BeautifulSoup(page.content, 'html.parser')"
   ]
  },
  {
   "cell_type": "code",
   "execution_count": 6,
   "id": "02365dbc-c3e7-4251-9a16-ccd58790ca50",
   "metadata": {},
   "outputs": [],
   "source": [
    "lists= soup.find_all('div',class_=\"feeditem table\") "
   ]
  },
  {
   "cell_type": "code",
   "execution_count": 7,
   "id": "78078f58-094e-4bab-b1e2-5ea2472ca87e",
   "metadata": {},
   "outputs": [],
   "source": [
    "records=[]"
   ]
  },
  {
   "cell_type": "code",
   "execution_count": 8,
   "id": "18842935-f5f3-4d80-b5cf-c4dab92c6f42",
   "metadata": {},
   "outputs": [],
   "source": [
    "for list in lists:\n",
    "    title=list.find('span',class_=\"title\").text.replace('\\n','')\n",
    "    subtitle=list.find('span',class_=\"subtitle\").text.replace('\\n','')\n",
    "    price=list.find('div',class_=\"price\").text.replace('\\n','')\n",
    "    records.append([title, subtitle, price])\n",
    "    \n",
    "    "
   ]
  },
  {
   "cell_type": "code",
   "execution_count": 10,
   "id": "df863c69-7344-4b44-8003-0c96d94d6c5d",
   "metadata": {},
   "outputs": [],
   "source": [
    "with open('housing.csv','w',encoding='utf8',newline='') as f:\n",
    "    thewriter= writer(f)\n",
    "    header=['Title','Info','Price']\n",
    "    thewriter.writerow(header)\n",
    "    thewriter.writerow(records)"
   ]
  },
  {
   "cell_type": "code",
   "execution_count": null,
   "id": "9828e65e-8291-4f0c-a861-4a8093e467cd",
   "metadata": {},
   "outputs": [],
   "source": []
  },
  {
   "cell_type": "code",
   "execution_count": null,
   "id": "ee6ffa6a-e2c4-4bd1-b2b4-1cf634537bfb",
   "metadata": {},
   "outputs": [],
   "source": []
  },
  {
   "cell_type": "code",
   "execution_count": null,
   "id": "e3a51df7-8b6f-464d-a438-12c492729d39",
   "metadata": {},
   "outputs": [],
   "source": []
  },
  {
   "cell_type": "code",
   "execution_count": null,
   "id": "0c179f37-c7f9-49af-acb7-f626f7770ba3",
   "metadata": {},
   "outputs": [],
   "source": []
  }
 ],
 "metadata": {
  "kernelspec": {
   "display_name": "Python 3 (ipykernel)",
   "language": "python",
   "name": "python3"
  },
  "language_info": {
   "codemirror_mode": {
    "name": "ipython",
    "version": 3
   },
   "file_extension": ".py",
   "mimetype": "text/x-python",
   "name": "python",
   "nbconvert_exporter": "python",
   "pygments_lexer": "ipython3",
   "version": "3.9.2"
  }
 },
 "nbformat": 4,
 "nbformat_minor": 5
}
